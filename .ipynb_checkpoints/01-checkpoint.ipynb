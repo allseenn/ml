{
 "cells": [
  {
   "cell_type": "markdown",
   "id": "7576755b-8622-4dd2-9c52-e06407c0cb33",
   "metadata": {},
   "source": [
    "# Искусственный интеллект\n",
    "\n",
    "ИИ включает направления:\n",
    "1. Обработка естественного языка\n",
    "2. Экспертные системы\n",
    "3. Речь\n",
    "4. Компьютерное зрение \n",
    "5. Робототехника\n",
    "6. Автоматическое планирование\n",
    "7. Машинное обучение.\n",
    "\n",
    "<img src=pics/00.png>\n",
    "\n",
    "## 1. Машинное обучение\n",
    "\n",
    "<img src=pics/01.png>\n",
    "\n",
    "МО - это область ИИ, когда мы тренируем наш алгоритм с помощью набора данных,\n",
    "делая его все лучше, точнее и более эффективным. При машинном обучении наши алгоритмы\n",
    "обучаются на основе данных, но без заранее запрограммированных инструкций. \n",
    "\n",
    "<img src=pics/02.png>\n",
    "\n",
    "Глубокое обучение - это подотрасль МО, то есть здесь тоже компьютер\n",
    "обучается, но обучается немного по-другому, чем в стандартном МО. В ГО используются нейронные сети (НС), которые представляют собой алгоритмы, повторяющие логику нейронов\n",
    "человеческого мозга.\n",
    "\n",
    "<img src=pics/03.png>\n",
    "\n",
    "Данные бывают:\n",
    "- маркированные labeled data.\n",
    "- немаркированные unlabeled data\n",
    "\n",
    "### 1.1. Обучение с учителем supervised learning\n",
    "\n",
    "<img src=pics/04.png>\n",
    "\n",
    "Обучение с учителем включает два типа задач: \n",
    "1. регрессия \n",
    "2. классификация\n",
    "\n",
    "#### 1.1.1. Классификация\n",
    "\n",
    "Разбиение на классы, (известные группы)\n",
    "\n",
    "Группы методов для решения задач по классификации:\n",
    "1. Ансамблирование\n",
    "    - Комитет большинства\n",
    "    - Выбор среднего\n",
    "    - Выбор средневзвешенного\n",
    "2. Бустинг\n",
    "3. Бэггинг\n",
    "4. Случайный лес\n",
    "- Дерево решений\n",
    "- Логистическая регрессия\n",
    "\n",
    "- Метод опорных векторов\n",
    "- Метод К-ближайших соседей\n",
    "\n",
    "##### 1.1.1.1. Ансамблирование\n",
    "\n",
    "Это совокупность из нескольких разных моделей для решения одной и той же задачи с целью улучшения точности предсказывания\n",
    "\n",
    "1. Комитет большинства (теорема Кондорсе о жюри присяжных)\n",
    "2. Выбор среднего (мудрость толпы)\n",
    "3. Выбор средневзвешенного\n",
    "\n",
    "###### 1.1.1.1.1. Комитет большинства\n",
    "\n",
    "Выбираем то значение из всех моделей, которое встречается наиболее чаще\n",
    "\n",
    "###### 1.1.1.1.2. Выбор среднего\n",
    "\n",
    "Выбор средне арифметического из всех решений\n",
    "\n",
    "###### 1.1.1.1.3. Выбор средневзвешенного\n",
    "\n",
    "Разным группам зрителей даем разные веса:\n",
    "\n",
    "- Профессиональные кинокритики - 1\n",
    "- Опытные пользователи - 0,75\n",
    "- Обычные пользователи - 0,5\n",
    "\n",
    "Далее, мы выводим взвешенную среднюю из их оценок\n",
    "\n",
    "###### 1.1.1.2. Бэггинг\n",
    "\n",
    "Бэггинг – сокращенное от bootstrap aggregation\n",
    "\n",
    "Применяют когда изначальная выборка не такая большая, и в связи с этим создают много случайных выборок из исходной выборки.\n",
    "\n",
    "<img src=pics/07.png>\n",
    "\n",
    "###### 1.1.1.3. Бустинг\n",
    "\n",
    "Ансамбль, основанный на последовательной технике, когда каждый последующий алгоритм стремится компенсировать недостатки предыдущих алгоритмов.\n",
    "\n",
    "Сначала первый алгоритм обучается на всем наборе данных, а каждый последующий алгоритм строится на примерах, в которых предыдущий алгоритм допустил ошибку, таким образом, наблюдениям, которые были предсказаны некорректно предыдущей моделью, дается больший вес.\n",
    "\n",
    "Пример бустингового метода: AdaBoost\n",
    "\n",
    "###### 1.1.1.4. Случайный лес\n",
    "\n",
    "Данный метод применяется не только в классификации, но и регрессии и кластеризации.\n",
    "\n",
    "<img src=pics/08.png>\n",
    "\n",
    "В бэггинге мы делали подвыборки и для каждой подвыборки строили дерево решений, основываясь на всех признаках. В случайном лесе, мы также будем делать подвыборки, но кроме этого, в каждой подвыборке мы будем случайным образом брать только отдельные признаки, например, только пол и возраст, или возраст и уровень холестерина.\n",
    "\n",
    "<img src=pics/09.png>\n",
    "\n",
    "Далее, как обычно мы будем агрегировать наши результаты и получим еще большую точ\u0002ность предсказаний наших алгоритмов. В задачах классификации нашу финальную модель мы\n",
    "будем выбирать комитетом большинства, а в задачах регрессии мы будем использовать среднее\n",
    "арифметическое.\n",
    "\n",
    "<img src=pics/10.png>\n",
    "\n",
    "Случайный лес – это как черный ящик, он очень хорошо прогнозирует, но практически ничего не объясняет\n",
    "\n",
    "#### 1.1.2. Регрессия\n",
    "\n",
    "Регрессия, когда мы делаем численный прогноз на основе предыдущих данных\n",
    "Классический пример регрессии – это когда мы предсказываем цену квартиры в зависимости от ее площади\n",
    "\n",
    "### 1.2. Обучение без учителя unsupervised learning\n",
    "\n",
    "<img src=pics/05.png>\n",
    "\n",
    "выводят закономерности и выводы на основе немаркированных данных\n",
    "такие данные можно обработать двумя способами:\n",
    "1. Кластеризация\n",
    "2. Снижение размерности\n",
    "\n",
    "#### 1.2.1. Кластеризация\n",
    "\n",
    "<img src=pics/06.png>\n",
    "\n",
    "в кластеризации мы ничего не предсказываем, а просто распределяем имеющиеся объекты в разные кластеры или группы в зависимости от сходных признаков\n",
    "\n",
    "#### 1.2.2. Снижение размерности\n",
    "\n",
    "И снижение размерности, которое необходимо для более удобной демонстрации больших объемов данных."
   ]
  },
  {
   "cell_type": "markdown",
   "id": "9f8bcff9-51ce-4d03-9645-816ed8a9577d",
   "metadata": {},
   "source": [
    "## 2. Модели МО"
   ]
  },
  {
   "cell_type": "markdown",
   "id": "d80db093-834a-4f89-9d33-0f17d9d0002c",
   "metadata": {},
   "source": [
    "### 2.1. Метод линейной регрессии"
   ]
  },
  {
   "cell_type": "markdown",
   "id": "942511fa-4be5-4a93-be49-231a0d13d1a1",
   "metadata": {},
   "source": [
    "#### 2.2.1 Один входной параметр, один выход\n",
    "\n",
    "Предсказание цен (выход) на квартиры в зависимости от площади (вход)"
   ]
  },
  {
   "cell_type": "code",
   "execution_count": 1,
   "id": "09f78cd3-a627-4c54-9bd8-7db1de837988",
   "metadata": {},
   "outputs": [],
   "source": [
    "import pandas as pd\n",
    "import numpy as np\n",
    "import matplotlib.pyplot as plt\n",
    "from sklearn import linear_model # Загрузка линейной модели"
   ]
  },
  {
   "cell_type": "code",
   "execution_count": 2,
   "id": "46fe5c7c-820b-45c7-82ba-a27956487c15",
   "metadata": {},
   "outputs": [],
   "source": [
    "df = pd.read_excel(\"price1.xlsx\") # считываем таблицу эксель в таблицу пандаса"
   ]
  },
  {
   "cell_type": "code",
   "execution_count": 3,
   "id": "2cc06015-124a-4607-84d9-70f88e0fc8ca",
   "metadata": {},
   "outputs": [
    {
     "data": {
      "text/html": [
       "<div>\n",
       "<style scoped>\n",
       "    .dataframe tbody tr th:only-of-type {\n",
       "        vertical-align: middle;\n",
       "    }\n",
       "\n",
       "    .dataframe tbody tr th {\n",
       "        vertical-align: top;\n",
       "    }\n",
       "\n",
       "    .dataframe thead th {\n",
       "        text-align: right;\n",
       "    }\n",
       "</style>\n",
       "<table border=\"1\" class=\"dataframe\">\n",
       "  <thead>\n",
       "    <tr style=\"text-align: right;\">\n",
       "      <th></th>\n",
       "      <th>area</th>\n",
       "      <th>price</th>\n",
       "    </tr>\n",
       "  </thead>\n",
       "  <tbody>\n",
       "    <tr>\n",
       "      <th>0</th>\n",
       "      <td>28</td>\n",
       "      <td>3.1</td>\n",
       "    </tr>\n",
       "    <tr>\n",
       "      <th>1</th>\n",
       "      <td>42</td>\n",
       "      <td>3.8</td>\n",
       "    </tr>\n",
       "    <tr>\n",
       "      <th>2</th>\n",
       "      <td>45</td>\n",
       "      <td>3.9</td>\n",
       "    </tr>\n",
       "    <tr>\n",
       "      <th>3</th>\n",
       "      <td>52</td>\n",
       "      <td>4.4</td>\n",
       "    </tr>\n",
       "    <tr>\n",
       "      <th>4</th>\n",
       "      <td>56</td>\n",
       "      <td>4.5</td>\n",
       "    </tr>\n",
       "    <tr>\n",
       "      <th>5</th>\n",
       "      <td>68</td>\n",
       "      <td>5.9</td>\n",
       "    </tr>\n",
       "    <tr>\n",
       "      <th>6</th>\n",
       "      <td>70</td>\n",
       "      <td>5.6</td>\n",
       "    </tr>\n",
       "    <tr>\n",
       "      <th>7</th>\n",
       "      <td>75</td>\n",
       "      <td>6.4</td>\n",
       "    </tr>\n",
       "    <tr>\n",
       "      <th>8</th>\n",
       "      <td>90</td>\n",
       "      <td>7.3</td>\n",
       "    </tr>\n",
       "  </tbody>\n",
       "</table>\n",
       "</div>"
      ],
      "text/plain": [
       "   area  price\n",
       "0    28    3.1\n",
       "1    42    3.8\n",
       "2    45    3.9\n",
       "3    52    4.4\n",
       "4    56    4.5\n",
       "5    68    5.9\n",
       "6    70    5.6\n",
       "7    75    6.4\n",
       "8    90    7.3"
      ]
     },
     "execution_count": 3,
     "metadata": {},
     "output_type": "execute_result"
    }
   ],
   "source": [
    "df # отображаем таблицу в пандасе"
   ]
  },
  {
   "cell_type": "code",
   "execution_count": 4,
   "id": "00043305-61e3-4bc4-98c4-a06c8cf96cfb",
   "metadata": {},
   "outputs": [
    {
     "data": {
      "text/plain": [
       "Text(0, 0.5, 'стоимость (млн.руб.)')"
      ]
     },
     "execution_count": 4,
     "metadata": {},
     "output_type": "execute_result"
    },
    {
     "data": {
      "image/png": "[encoded data removed]",
      "text/plain": [
       "<Figure size 640x480 with 1 Axes>"
      ]
     },
     "metadata": {},
     "output_type": "display_data"
    }
   ],
   "source": [
    "plt.scatter(df.area, df.price, color='red', marker='^')\n",
    "plt.xlabel('площадь (кв.м.)')\n",
    "plt.ylabel('стоимость (млн.руб.)')"
   ]
  },
  {
   "cell_type": "code",
   "execution_count": 5,
   "id": "977429b7-4fdc-45f5-a2e2-3e99f1cf6170",
   "metadata": {},
   "outputs": [
    {
     "data": {
      "text/plain": [
       "<matplotlib.collections.PathCollection at 0x7f9e4ff57bd0>"
      ]
     },
     "execution_count": 5,
     "metadata": {},
     "output_type": "execute_result"
    },
    {
     "data": {
      "image/png": "[encoded data removed]",
      "text/plain": [
       "<Figure size 640x480 with 1 Axes>"
      ]
     },
     "metadata": {},
     "output_type": "display_data"
    }
   ],
   "source": [
    "# магическая команда юпитера, позволяющая построенный график вывести \"на месте\", а не сохранять в файл\n",
    "%matplotlib inline \n",
    "plt.scatter(df.area,df.price)"
   ]
  },
  {
   "cell_type": "markdown",
   "id": "bd5c27e1-5baa-42e9-98db-c2458d97080e",
   "metadata": {},
   "source": [
    "Создаем модель линейной регрессии, т.к. мы решаем задачу регрессии по поиску вещественных чисел, таких чтобы построить линейную функцию, евклидово растояние до этой функции от точек будет минимальным."
   ]
  },
  {
   "cell_type": "code",
   "execution_count": 6,
   "id": "a6a050f8-88f7-4b4e-93a4-a0040a411397",
   "metadata": {},
   "outputs": [],
   "source": [
    "reg = linear_model.LinearRegression()"
   ]
  },
  {
   "cell_type": "markdown",
   "id": "d46044e0-ec56-439e-b371-71759dde1803",
   "metadata": {},
   "source": [
    "Модель описали. Но этого мало, ее нужно \"натренировать\", т.е. активировать процесс при котором начнется поиск методом расчета наименьших расстояний до прямой, проходящей через точки. Как итого, \"тренировка\" найдет наилучшую функцию описывающую нашу прямую."
   ]
  },
  {
   "cell_type": "code",
   "execution_count": 7,
   "id": "5aa7324e-0135-490d-879c-1b5731931434",
   "metadata": {},
   "outputs": [
    {
     "data": {
      "text/html": [
       "<style>#sk-container-id-1 {color: black;}#sk-container-id-1 pre{padding: 0;}#sk-container-id-1 div.sk-toggleable {background-color: white;}#sk-container-id-1 label.sk-toggleable__label {cursor: pointer;display: block;width: 100%;margin-bottom: 0;padding: 0.3em;box-sizing: border-box;text-align: center;}#sk-container-id-1 label.sk-toggleable__label-arrow:before {content: \"▸\";float: left;margin-right: 0.25em;color: #696969;}#sk-container-id-1 label.sk-toggleable__label-arrow:hover:before {color: black;}#sk-container-id-1 div.sk-estimator:hover label.sk-toggleable__label-arrow:before {color: black;}#sk-container-id-1 div.sk-toggleable__content {max-height: 0;max-width: 0;overflow: hidden;text-align: left;background-color: #f0f8ff;}#sk-container-id-1 div.sk-toggleable__content pre {margin: 0.2em;color: black;border-radius: 0.25em;background-color: #f0f8ff;}#sk-container-id-1 input.sk-toggleable__control:checked~div.sk-toggleable__content {max-height: 200px;max-width: 100%;overflow: auto;}#sk-container-id-1 input.sk-toggleable__control:checked~label.sk-toggleable__label-arrow:before {content: \"▾\";}#sk-container-id-1 div.sk-estimator input.sk-toggleable__control:checked~label.sk-toggleable__label {background-color: #d4ebff;}#sk-container-id-1 div.sk-label input.sk-toggleable__control:checked~label.sk-toggleable__label {background-color: #d4ebff;}#sk-container-id-1 input.sk-hidden--visually {border: 0;clip: rect(1px 1px 1px 1px);clip: rect(1px, 1px, 1px, 1px);height: 1px;margin: -1px;overflow: hidden;padding: 0;position: absolute;width: 1px;}#sk-container-id-1 div.sk-estimator {font-family: monospace;background-color: #f0f8ff;border: 1px dotted black;border-radius: 0.25em;box-sizing: border-box;margin-bottom: 0.5em;}#sk-container-id-1 div.sk-estimator:hover {background-color: #d4ebff;}#sk-container-id-1 div.sk-parallel-item::after {content: \"\";width: 100%;border-bottom: 1px solid gray;flex-grow: 1;}#sk-container-id-1 div.sk-label:hover label.sk-toggleable__label {background-color: #d4ebff;}#sk-container-id-1 div.sk-serial::before {content: \"\";position: absolute;border-left: 1px solid gray;box-sizing: border-box;top: 0;bottom: 0;left: 50%;z-index: 0;}#sk-container-id-1 div.sk-serial {display: flex;flex-direction: column;align-items: center;background-color: white;padding-right: 0.2em;padding-left: 0.2em;position: relative;}#sk-container-id-1 div.sk-item {position: relative;z-index: 1;}#sk-container-id-1 div.sk-parallel {display: flex;align-items: stretch;justify-content: center;background-color: white;position: relative;}#sk-container-id-1 div.sk-item::before, #sk-container-id-1 div.sk-parallel-item::before {content: \"\";position: absolute;border-left: 1px solid gray;box-sizing: border-box;top: 0;bottom: 0;left: 50%;z-index: -1;}#sk-container-id-1 div.sk-parallel-item {display: flex;flex-direction: column;z-index: 1;position: relative;background-color: white;}#sk-container-id-1 div.sk-parallel-item:first-child::after {align-self: flex-end;width: 50%;}#sk-container-id-1 div.sk-parallel-item:last-child::after {align-self: flex-start;width: 50%;}#sk-container-id-1 div.sk-parallel-item:only-child::after {width: 0;}#sk-container-id-1 div.sk-dashed-wrapped {border: 1px dashed gray;margin: 0 0.4em 0.5em 0.4em;box-sizing: border-box;padding-bottom: 0.4em;background-color: white;}#sk-container-id-1 div.sk-label label {font-family: monospace;font-weight: bold;display: inline-block;line-height: 1.2em;}#sk-container-id-1 div.sk-label-container {text-align: center;}#sk-container-id-1 div.sk-container {/* jupyter's `normalize.less` sets `[hidden] { display: none; }` but bootstrap.min.css set `[hidden] { display: none !important; }` so we also need the `!important` here to be able to override the default hidden behavior on the sphinx rendered scikit-learn.org. See: https://github.com/scikit-learn/scikit-learn/issues/21755 */display: inline-block !important;position: relative;}#sk-container-id-1 div.sk-text-repr-fallback {display: none;}</style><div id=\"sk-container-id-1\" class=\"sk-top-container\"><div class=\"sk-text-repr-fallback\"><pre>LinearRegression()</pre><b>In a Jupyter environment, please rerun this cell to show the HTML representation or trust the notebook. <br />On GitHub, the HTML representation is unable to render, please try loading this page with nbviewer.org.</b></div><div class=\"sk-container\" hidden><div class=\"sk-item\"><div class=\"sk-estimator sk-toggleable\"><input class=\"sk-toggleable__control sk-hidden--visually\" id=\"sk-estimator-id-1\" type=\"checkbox\" checked><label for=\"sk-estimator-id-1\" class=\"sk-toggleable__label sk-toggleable__label-arrow\">LinearRegression</label><div class=\"sk-toggleable__content\"><pre>LinearRegression()</pre></div></div></div></div></div>"
      ],
      "text/plain": [
       "LinearRegression()"
      ]
     },
     "execution_count": 7,
     "metadata": {},
     "output_type": "execute_result"
    }
   ],
   "source": [
    "reg.fit(df[['area']],df.price)"
   ]
  },
  {
   "cell_type": "markdown",
   "id": "d4c92573-00aa-4691-a003-9818a9b5b4a4",
   "metadata": {},
   "source": [
    "В двойных квадратных скобках мы даем значения параметров (пло\u0002щадь), после запятой ответы (цены)"
   ]
  },
  {
   "cell_type": "markdown",
   "id": "30d2600b-0c57-40a4-a131-58dace17827e",
   "metadata": {},
   "source": [
    "Попробуем предсказать цену по любому метражу"
   ]
  },
  {
   "cell_type": "code",
   "execution_count": 8,
   "id": "e153f60d-6168-4e2c-ba5c-c3d4593fccc9",
   "metadata": {},
   "outputs": [
    {
     "name": "stderr",
     "output_type": "stream",
     "text": [
      "/opt/anaconda/lib/python3.11/site-packages/sklearn/base.py:464: UserWarning: X does not have valid feature names, but LinearRegression was fitted with feature names\n",
      "  warnings.warn(\n"
     ]
    },
    {
     "data": {
      "text/plain": [
       "array([3.52747127])"
      ]
     },
     "execution_count": 8,
     "metadata": {},
     "output_type": "execute_result"
    }
   ],
   "source": [
    "reg.predict([[38]])"
   ]
  },
  {
   "cell_type": "code",
   "execution_count": 9,
   "id": "9cc58a6b-4bda-4d76-ad35-ffd5a5c5e307",
   "metadata": {},
   "outputs": [
    {
     "name": "stderr",
     "output_type": "stream",
     "text": [
      "/opt/anaconda/lib/python3.11/site-packages/sklearn/base.py:464: UserWarning: X does not have valid feature names, but LinearRegression was fitted with feature names\n",
      "  warnings.warn(\n"
     ]
    },
    {
     "data": {
      "text/plain": [
       "array([9.38902671])"
      ]
     },
     "execution_count": 9,
     "metadata": {},
     "output_type": "execute_result"
    }
   ],
   "source": [
    "reg.predict([[120]])"
   ]
  },
  {
   "cell_type": "markdown",
   "id": "98b21d6a-d249-4794-8428-4c583309c760",
   "metadata": {},
   "source": [
    "линейная регрессия строится по формуле Y = ax + b. Назовем коэффициент a - reg.coef_, b - reg.intercept_"
   ]
  },
  {
   "cell_type": "code",
   "execution_count": 10,
   "id": "c3362a94-282a-4519-800b-2a57d101d5f2",
   "metadata": {},
   "outputs": [
    {
     "data": {
      "text/plain": [
       "(array([0.07148238]), 0.8111407046647896)"
      ]
     },
     "execution_count": 10,
     "metadata": {},
     "output_type": "execute_result"
    }
   ],
   "source": [
    "reg.coef_, reg.intercept_"
   ]
  },
  {
   "cell_type": "markdown",
   "id": "1e4f2952-f13c-4a91-9ccb-06a74d06d540",
   "metadata": {},
   "source": [
    "Стоимость квартиры = 0.07148238 умножить на площадь и плюс 0.8111407046647887"
   ]
  },
  {
   "cell_type": "markdown",
   "id": "bb3b09fe-215a-42b2-85c9-46926482368c",
   "metadata": {},
   "source": [
    "Подставим эти коэффициенты под нашу формулу, умножим 120 метров на первый коэф\u0002фициент и прибавим к нему второй коэффициент"
   ]
  },
  {
   "cell_type": "code",
   "execution_count": 11,
   "id": "cfc8d297-759e-4c12-a5af-81e441a932c5",
   "metadata": {},
   "outputs": [
    {
     "data": {
      "text/plain": [
       "array([9.38902671])"
      ]
     },
     "execution_count": 11,
     "metadata": {},
     "output_type": "execute_result"
    }
   ],
   "source": [
    "120*reg.coef_ + reg.intercept_"
   ]
  },
  {
   "cell_type": "code",
   "execution_count": 12,
   "id": "8718e47f-4a05-45a0-901f-26b6a03511a7",
   "metadata": {},
   "outputs": [
    {
     "data": {
      "text/plain": [
       "[<matplotlib.lines.Line2D at 0x7f9e5087bd10>]"
      ]
     },
     "execution_count": 12,
     "metadata": {},
     "output_type": "execute_result"
    },
    {
     "data": {
      "image/png": "[encoded data removed]",
      "text/plain": [
       "<Figure size 640x480 with 1 Axes>"
      ]
     },
     "metadata": {},
     "output_type": "display_data"
    }
   ],
   "source": [
    "plt.scatter(df.area, df.price, color='red', marker='^')\n",
    "plt.xlabel('площадь (кв.м.)')\n",
    "plt.ylabel('стоимость (млн.руб.)')\n",
    "plt.plot(df.area, reg.predict(df[['area']]))"
   ]
  },
  {
   "cell_type": "markdown",
   "id": "8cda6e0e-2cb0-4673-bf70-3ad1c52b8701",
   "metadata": {},
   "source": [
    "Заполним новый файл, который имеет только столбец \"площадь\", столбцом с ценами"
   ]
  },
  {
   "cell_type": "code",
   "execution_count": 13,
   "id": "a6820a04-bb7f-4aa1-81cf-da0cd480e366",
   "metadata": {},
   "outputs": [],
   "source": [
    "pred = pd.read_excel(\"prediction_price.xlsx\")"
   ]
  },
  {
   "cell_type": "code",
   "execution_count": 14,
   "id": "f024a3e9-f0d9-4bbb-8623-e80d1f109719",
   "metadata": {},
   "outputs": [
    {
     "data": {
      "text/html": [
       "<div>\n",
       "<style scoped>\n",
       "    .dataframe tbody tr th:only-of-type {\n",
       "        vertical-align: middle;\n",
       "    }\n",
       "\n",
       "    .dataframe tbody tr th {\n",
       "        vertical-align: top;\n",
       "    }\n",
       "\n",
       "    .dataframe thead th {\n",
       "        text-align: right;\n",
       "    }\n",
       "</style>\n",
       "<table border=\"1\" class=\"dataframe\">\n",
       "  <thead>\n",
       "    <tr style=\"text-align: right;\">\n",
       "      <th></th>\n",
       "      <th>area</th>\n",
       "    </tr>\n",
       "  </thead>\n",
       "  <tbody>\n",
       "    <tr>\n",
       "      <th>0</th>\n",
       "      <td>25</td>\n",
       "    </tr>\n",
       "    <tr>\n",
       "      <th>1</th>\n",
       "      <td>37</td>\n",
       "    </tr>\n",
       "    <tr>\n",
       "      <th>2</th>\n",
       "      <td>40</td>\n",
       "    </tr>\n",
       "    <tr>\n",
       "      <th>3</th>\n",
       "      <td>58</td>\n",
       "    </tr>\n",
       "    <tr>\n",
       "      <th>4</th>\n",
       "      <td>61</td>\n",
       "    </tr>\n",
       "    <tr>\n",
       "      <th>5</th>\n",
       "      <td>67</td>\n",
       "    </tr>\n",
       "    <tr>\n",
       "      <th>6</th>\n",
       "      <td>72</td>\n",
       "    </tr>\n",
       "    <tr>\n",
       "      <th>7</th>\n",
       "      <td>85</td>\n",
       "    </tr>\n",
       "    <tr>\n",
       "      <th>8</th>\n",
       "      <td>96</td>\n",
       "    </tr>\n",
       "    <tr>\n",
       "      <th>9</th>\n",
       "      <td>105</td>\n",
       "    </tr>\n",
       "    <tr>\n",
       "      <th>10</th>\n",
       "      <td>118</td>\n",
       "    </tr>\n",
       "  </tbody>\n",
       "</table>\n",
       "</div>"
      ],
      "text/plain": [
       "    area\n",
       "0     25\n",
       "1     37\n",
       "2     40\n",
       "3     58\n",
       "4     61\n",
       "5     67\n",
       "6     72\n",
       "7     85\n",
       "8     96\n",
       "9    105\n",
       "10   118"
      ]
     },
     "execution_count": 14,
     "metadata": {},
     "output_type": "execute_result"
    }
   ],
   "source": [
    "pred"
   ]
  },
  {
   "cell_type": "code",
   "execution_count": 15,
   "id": "436efa10-7a38-4421-899d-fa38cb69b9c0",
   "metadata": {},
   "outputs": [],
   "source": [
    "p = reg.predict(pred)"
   ]
  },
  {
   "cell_type": "code",
   "execution_count": 16,
   "id": "9a630107-8a1c-4715-812a-8231a2bffc19",
   "metadata": {},
   "outputs": [],
   "source": [
    "pred['predicted prices'] = p"
   ]
  },
  {
   "cell_type": "code",
   "execution_count": 17,
   "id": "799614b1-bd18-4940-b531-b879d860dc95",
   "metadata": {},
   "outputs": [
    {
     "data": {
      "text/html": [
       "<div>\n",
       "<style scoped>\n",
       "    .dataframe tbody tr th:only-of-type {\n",
       "        vertical-align: middle;\n",
       "    }\n",
       "\n",
       "    .dataframe tbody tr th {\n",
       "        vertical-align: top;\n",
       "    }\n",
       "\n",
       "    .dataframe thead th {\n",
       "        text-align: right;\n",
       "    }\n",
       "</style>\n",
       "<table border=\"1\" class=\"dataframe\">\n",
       "  <thead>\n",
       "    <tr style=\"text-align: right;\">\n",
       "      <th></th>\n",
       "      <th>area</th>\n",
       "      <th>predicted prices</th>\n",
       "    </tr>\n",
       "  </thead>\n",
       "  <tbody>\n",
       "    <tr>\n",
       "      <th>0</th>\n",
       "      <td>25</td>\n",
       "      <td>2.598200</td>\n",
       "    </tr>\n",
       "    <tr>\n",
       "      <th>1</th>\n",
       "      <td>37</td>\n",
       "      <td>3.455989</td>\n",
       "    </tr>\n",
       "    <tr>\n",
       "      <th>2</th>\n",
       "      <td>40</td>\n",
       "      <td>3.670436</td>\n",
       "    </tr>\n",
       "    <tr>\n",
       "      <th>3</th>\n",
       "      <td>58</td>\n",
       "      <td>4.957119</td>\n",
       "    </tr>\n",
       "    <tr>\n",
       "      <th>4</th>\n",
       "      <td>61</td>\n",
       "      <td>5.171566</td>\n",
       "    </tr>\n",
       "    <tr>\n",
       "      <th>5</th>\n",
       "      <td>67</td>\n",
       "      <td>5.600460</td>\n",
       "    </tr>\n",
       "    <tr>\n",
       "      <th>6</th>\n",
       "      <td>72</td>\n",
       "      <td>5.957872</td>\n",
       "    </tr>\n",
       "    <tr>\n",
       "      <th>7</th>\n",
       "      <td>85</td>\n",
       "      <td>6.887143</td>\n",
       "    </tr>\n",
       "    <tr>\n",
       "      <th>8</th>\n",
       "      <td>96</td>\n",
       "      <td>7.673450</td>\n",
       "    </tr>\n",
       "    <tr>\n",
       "      <th>9</th>\n",
       "      <td>105</td>\n",
       "      <td>8.316791</td>\n",
       "    </tr>\n",
       "    <tr>\n",
       "      <th>10</th>\n",
       "      <td>118</td>\n",
       "      <td>9.246062</td>\n",
       "    </tr>\n",
       "  </tbody>\n",
       "</table>\n",
       "</div>"
      ],
      "text/plain": [
       "    area  predicted prices\n",
       "0     25          2.598200\n",
       "1     37          3.455989\n",
       "2     40          3.670436\n",
       "3     58          4.957119\n",
       "4     61          5.171566\n",
       "5     67          5.600460\n",
       "6     72          5.957872\n",
       "7     85          6.887143\n",
       "8     96          7.673450\n",
       "9    105          8.316791\n",
       "10   118          9.246062"
      ]
     },
     "execution_count": 17,
     "metadata": {},
     "output_type": "execute_result"
    }
   ],
   "source": [
    "pred"
   ]
  },
  {
   "cell_type": "code",
   "execution_count": 18,
   "id": "a27b2140-c04f-4849-b66c-4a6dbc6874b6",
   "metadata": {},
   "outputs": [],
   "source": [
    "pred.to_excel(\"new.xlsx\", index = False) # Сохраняем результат в формате экселя, без указания заголовков"
   ]
  },
  {
   "cell_type": "markdown",
   "id": "5b8309f9-5e63-4cb2-a6ea-c580d21659bf",
   "metadata": {},
   "source": [
    "### 2.2.2. Два входных параметра, один выход"
   ]
  },
  {
   "cell_type": "markdown",
   "id": "0b767d24-5e8c-44a2-b193-d99da001104b",
   "metadata": {},
   "source": [
    "На примере годовой (вход 1) цены(вход 2) на нефть, предсказываем годовой ВВП (выход) РФ"
   ]
  },
  {
   "cell_type": "code",
   "execution_count": 19,
   "id": "e4cf4128-3c33-4ee0-88fb-c48d4e5eefb2",
   "metadata": {},
   "outputs": [],
   "source": [
    "data = pd.read_excel(\"gdprussia.xlsx\")"
   ]
  },
  {
   "cell_type": "code",
   "execution_count": 20,
   "id": "ca6b618c-ddce-4c8d-8e42-b115ea8004c8",
   "metadata": {},
   "outputs": [
    {
     "data": {
      "text/html": [
       "<div>\n",
       "<style scoped>\n",
       "    .dataframe tbody tr th:only-of-type {\n",
       "        vertical-align: middle;\n",
       "    }\n",
       "\n",
       "    .dataframe tbody tr th {\n",
       "        vertical-align: top;\n",
       "    }\n",
       "\n",
       "    .dataframe thead th {\n",
       "        text-align: right;\n",
       "    }\n",
       "</style>\n",
       "<table border=\"1\" class=\"dataframe\">\n",
       "  <thead>\n",
       "    <tr style=\"text-align: right;\">\n",
       "      <th></th>\n",
       "      <th>year</th>\n",
       "      <th>oilprice</th>\n",
       "      <th>gdp</th>\n",
       "    </tr>\n",
       "  </thead>\n",
       "  <tbody>\n",
       "    <tr>\n",
       "      <th>0</th>\n",
       "      <td>2018</td>\n",
       "      <td>71.06</td>\n",
       "      <td>1657.554647</td>\n",
       "    </tr>\n",
       "    <tr>\n",
       "      <th>1</th>\n",
       "      <td>2017</td>\n",
       "      <td>54.25</td>\n",
       "      <td>1578.624061</td>\n",
       "    </tr>\n",
       "    <tr>\n",
       "      <th>2</th>\n",
       "      <td>2016</td>\n",
       "      <td>43.55</td>\n",
       "      <td>1282.723881</td>\n",
       "    </tr>\n",
       "    <tr>\n",
       "      <th>3</th>\n",
       "      <td>2015</td>\n",
       "      <td>52.35</td>\n",
       "      <td>1363.594370</td>\n",
       "    </tr>\n",
       "    <tr>\n",
       "      <th>4</th>\n",
       "      <td>2014</td>\n",
       "      <td>99.03</td>\n",
       "      <td>2059.984158</td>\n",
       "    </tr>\n",
       "    <tr>\n",
       "      <th>5</th>\n",
       "      <td>2013</td>\n",
       "      <td>108.56</td>\n",
       "      <td>2297.128039</td>\n",
       "    </tr>\n",
       "    <tr>\n",
       "      <th>6</th>\n",
       "      <td>2012</td>\n",
       "      <td>111.63</td>\n",
       "      <td>2210.256977</td>\n",
       "    </tr>\n",
       "    <tr>\n",
       "      <th>7</th>\n",
       "      <td>2011</td>\n",
       "      <td>111.27</td>\n",
       "      <td>2051.661732</td>\n",
       "    </tr>\n",
       "    <tr>\n",
       "      <th>8</th>\n",
       "      <td>2010</td>\n",
       "      <td>79.47</td>\n",
       "      <td>1524.917468</td>\n",
       "    </tr>\n",
       "    <tr>\n",
       "      <th>9</th>\n",
       "      <td>2009</td>\n",
       "      <td>61.51</td>\n",
       "      <td>1222.644282</td>\n",
       "    </tr>\n",
       "    <tr>\n",
       "      <th>10</th>\n",
       "      <td>2008</td>\n",
       "      <td>96.99</td>\n",
       "      <td>1660.846388</td>\n",
       "    </tr>\n",
       "    <tr>\n",
       "      <th>11</th>\n",
       "      <td>2007</td>\n",
       "      <td>72.52</td>\n",
       "      <td>1299.705765</td>\n",
       "    </tr>\n",
       "    <tr>\n",
       "      <th>12</th>\n",
       "      <td>2006</td>\n",
       "      <td>65.14</td>\n",
       "      <td>989.930542</td>\n",
       "    </tr>\n",
       "    <tr>\n",
       "      <th>13</th>\n",
       "      <td>2005</td>\n",
       "      <td>54.38</td>\n",
       "      <td>764.017108</td>\n",
       "    </tr>\n",
       "    <tr>\n",
       "      <th>14</th>\n",
       "      <td>2004</td>\n",
       "      <td>38.10</td>\n",
       "      <td>591.016691</td>\n",
       "    </tr>\n",
       "  </tbody>\n",
       "</table>\n",
       "</div>"
      ],
      "text/plain": [
       "    year  oilprice          gdp\n",
       "0   2018     71.06  1657.554647\n",
       "1   2017     54.25  1578.624061\n",
       "2   2016     43.55  1282.723881\n",
       "3   2015     52.35  1363.594370\n",
       "4   2014     99.03  2059.984158\n",
       "5   2013    108.56  2297.128039\n",
       "6   2012    111.63  2210.256977\n",
       "7   2011    111.27  2051.661732\n",
       "8   2010     79.47  1524.917468\n",
       "9   2009     61.51  1222.644282\n",
       "10  2008     96.99  1660.846388\n",
       "11  2007     72.52  1299.705765\n",
       "12  2006     65.14   989.930542\n",
       "13  2005     54.38   764.017108\n",
       "14  2004     38.10   591.016691"
      ]
     },
     "execution_count": 20,
     "metadata": {},
     "output_type": "execute_result"
    }
   ],
   "source": [
    "data"
   ]
  },
  {
   "cell_type": "code",
   "execution_count": 21,
   "id": "ca326e1a-214f-4b19-80fe-88ad3fb35ce8",
   "metadata": {},
   "outputs": [
    {
     "data": {
      "text/plain": [
       "<matplotlib.collections.PathCollection at 0x7f9e4ff9ea50>"
      ]
     },
     "execution_count": 21,
     "metadata": {},
     "output_type": "execute_result"
    },
    {
     "data": {
      "image/png": "[encoded data removed]",
      "text/plain": [
       "<Figure size 640x480 with 1 Axes>"
      ]
     },
     "metadata": {},
     "output_type": "display_data"
    }
   ],
   "source": [
    "%matplotlib inline\n",
    "plt.scatter(data.oilprice,data.gdp)"
   ]
  },
  {
   "cell_type": "code",
   "execution_count": 22,
   "id": "8845bc58-39a2-4862-ab29-797f5c93100b",
   "metadata": {},
   "outputs": [],
   "source": [
    "reg = linear_model.LinearRegression()"
   ]
  },
  {
   "cell_type": "code",
   "execution_count": 23,
   "id": "c2cb2e7f-bee8-4ff7-a1d6-30a2425109bd",
   "metadata": {},
   "outputs": [
    {
     "data": {
      "text/html": [
       "<style>#sk-container-id-2 {color: black;}#sk-container-id-2 pre{padding: 0;}#sk-container-id-2 div.sk-toggleable {background-color: white;}#sk-container-id-2 label.sk-toggleable__label {cursor: pointer;display: block;width: 100%;margin-bottom: 0;padding: 0.3em;box-sizing: border-box;text-align: center;}#sk-container-id-2 label.sk-toggleable__label-arrow:before {content: \"▸\";float: left;margin-right: 0.25em;color: #696969;}#sk-container-id-2 label.sk-toggleable__label-arrow:hover:before {color: black;}#sk-container-id-2 div.sk-estimator:hover label.sk-toggleable__label-arrow:before {color: black;}#sk-container-id-2 div.sk-toggleable__content {max-height: 0;max-width: 0;overflow: hidden;text-align: left;background-color: #f0f8ff;}#sk-container-id-2 div.sk-toggleable__content pre {margin: 0.2em;color: black;border-radius: 0.25em;background-color: #f0f8ff;}#sk-container-id-2 input.sk-toggleable__control:checked~div.sk-toggleable__content {max-height: 200px;max-width: 100%;overflow: auto;}#sk-container-id-2 input.sk-toggleable__control:checked~label.sk-toggleable__label-arrow:before {content: \"▾\";}#sk-container-id-2 div.sk-estimator input.sk-toggleable__control:checked~label.sk-toggleable__label {background-color: #d4ebff;}#sk-container-id-2 div.sk-label input.sk-toggleable__control:checked~label.sk-toggleable__label {background-color: #d4ebff;}#sk-container-id-2 input.sk-hidden--visually {border: 0;clip: rect(1px 1px 1px 1px);clip: rect(1px, 1px, 1px, 1px);height: 1px;margin: -1px;overflow: hidden;padding: 0;position: absolute;width: 1px;}#sk-container-id-2 div.sk-estimator {font-family: monospace;background-color: #f0f8ff;border: 1px dotted black;border-radius: 0.25em;box-sizing: border-box;margin-bottom: 0.5em;}#sk-container-id-2 div.sk-estimator:hover {background-color: #d4ebff;}#sk-container-id-2 div.sk-parallel-item::after {content: \"\";width: 100%;border-bottom: 1px solid gray;flex-grow: 1;}#sk-container-id-2 div.sk-label:hover label.sk-toggleable__label {background-color: #d4ebff;}#sk-container-id-2 div.sk-serial::before {content: \"\";position: absolute;border-left: 1px solid gray;box-sizing: border-box;top: 0;bottom: 0;left: 50%;z-index: 0;}#sk-container-id-2 div.sk-serial {display: flex;flex-direction: column;align-items: center;background-color: white;padding-right: 0.2em;padding-left: 0.2em;position: relative;}#sk-container-id-2 div.sk-item {position: relative;z-index: 1;}#sk-container-id-2 div.sk-parallel {display: flex;align-items: stretch;justify-content: center;background-color: white;position: relative;}#sk-container-id-2 div.sk-item::before, #sk-container-id-2 div.sk-parallel-item::before {content: \"\";position: absolute;border-left: 1px solid gray;box-sizing: border-box;top: 0;bottom: 0;left: 50%;z-index: -1;}#sk-container-id-2 div.sk-parallel-item {display: flex;flex-direction: column;z-index: 1;position: relative;background-color: white;}#sk-container-id-2 div.sk-parallel-item:first-child::after {align-self: flex-end;width: 50%;}#sk-container-id-2 div.sk-parallel-item:last-child::after {align-self: flex-start;width: 50%;}#sk-container-id-2 div.sk-parallel-item:only-child::after {width: 0;}#sk-container-id-2 div.sk-dashed-wrapped {border: 1px dashed gray;margin: 0 0.4em 0.5em 0.4em;box-sizing: border-box;padding-bottom: 0.4em;background-color: white;}#sk-container-id-2 div.sk-label label {font-family: monospace;font-weight: bold;display: inline-block;line-height: 1.2em;}#sk-container-id-2 div.sk-label-container {text-align: center;}#sk-container-id-2 div.sk-container {/* jupyter's `normalize.less` sets `[hidden] { display: none; }` but bootstrap.min.css set `[hidden] { display: none !important; }` so we also need the `!important` here to be able to override the default hidden behavior on the sphinx rendered scikit-learn.org. See: https://github.com/scikit-learn/scikit-learn/issues/21755 */display: inline-block !important;position: relative;}#sk-container-id-2 div.sk-text-repr-fallback {display: none;}</style><div id=\"sk-container-id-2\" class=\"sk-top-container\"><div class=\"sk-text-repr-fallback\"><pre>LinearRegression()</pre><b>In a Jupyter environment, please rerun this cell to show the HTML representation or trust the notebook. <br />On GitHub, the HTML representation is unable to render, please try loading this page with nbviewer.org.</b></div><div class=\"sk-container\" hidden><div class=\"sk-item\"><div class=\"sk-estimator sk-toggleable\"><input class=\"sk-toggleable__control sk-hidden--visually\" id=\"sk-estimator-id-2\" type=\"checkbox\" checked><label for=\"sk-estimator-id-2\" class=\"sk-toggleable__label sk-toggleable__label-arrow\">LinearRegression</label><div class=\"sk-toggleable__content\"><pre>LinearRegression()</pre></div></div></div></div></div>"
      ],
      "text/plain": [
       "LinearRegression()"
      ]
     },
     "execution_count": 23,
     "metadata": {},
     "output_type": "execute_result"
    }
   ],
   "source": [
    "reg.fit(data[['year', 'oilprice']],data.gdp)"
   ]
  },
  {
   "cell_type": "code",
   "execution_count": 24,
   "id": "8ebb8c1b-12d6-4de6-8078-19fa2b2edf41",
   "metadata": {},
   "outputs": [
    {
     "data": {
      "text/plain": [
       "array([1825.73114636, 1494.80416625, 1264.3667999 , 1354.64096684,\n",
       "       2067.91784565, 2170.19813666, 2166.23245305, 2105.85443307,\n",
       "       1528.39074095, 1178.55000374, 1707.62333522, 1250.71428612,\n",
       "       1074.88011416,  843.45594309,  521.24573798])"
      ]
     },
     "execution_count": 24,
     "metadata": {},
     "output_type": "execute_result"
    }
   ],
   "source": [
    "reg.predict(data[['year','oilprice']])"
   ]
  },
  {
   "cell_type": "code",
   "execution_count": 25,
   "id": "c362ebe9-bc4c-4e3f-93a1-2bd4d0d1d6d6",
   "metadata": {},
   "outputs": [
    {
     "data": {
      "text/plain": [
       "(array([54.45719167, 16.4467453 ]), -109237.58736519833)"
      ]
     },
     "execution_count": 25,
     "metadata": {},
     "output_type": "execute_result"
    }
   ],
   "source": [
    "reg.coef_, reg.intercept_"
   ]
  },
  {
   "cell_type": "code",
   "execution_count": 27,
   "id": "d1834b1c-951c-445b-932c-dccae3c37426",
   "metadata": {},
   "outputs": [
    {
     "ename": "ValueError",
     "evalue": "The feature names should match those that were passed during fit.\nFeature names seen at fit time, yet now missing:\n- year\n",
     "output_type": "error",
     "traceback": [
      "\u001b[0;31m---------------------------------------------------------------------------\u001b[0m",
      "\u001b[0;31mValueError\u001b[0m                                Traceback (most recent call last)",
      "Cell \u001b[0;32mIn[27], line 4\u001b[0m\n\u001b[1;32m      2\u001b[0m plt\u001b[38;5;241m.\u001b[39mxlabel(\u001b[38;5;124m'\u001b[39m\u001b[38;5;124m$\u001b[39m\u001b[38;5;124m'\u001b[39m)\n\u001b[1;32m      3\u001b[0m plt\u001b[38;5;241m.\u001b[39mylabel(\u001b[38;5;124m'\u001b[39m\u001b[38;5;124mВВП\u001b[39m\u001b[38;5;124m'\u001b[39m)\n\u001b[0;32m----> 4\u001b[0m plt\u001b[38;5;241m.\u001b[39mplot(data\u001b[38;5;241m.\u001b[39moilprice, reg\u001b[38;5;241m.\u001b[39mpredict(data[[\u001b[38;5;124m'\u001b[39m\u001b[38;5;124moilprice\u001b[39m\u001b[38;5;124m'\u001b[39m]]))\n",
      "File \u001b[0;32m/opt/anaconda/lib/python3.11/site-packages/sklearn/linear_model/_base.py:386\u001b[0m, in \u001b[0;36mLinearModel.predict\u001b[0;34m(self, X)\u001b[0m\n\u001b[1;32m    372\u001b[0m \u001b[38;5;28;01mdef\u001b[39;00m \u001b[38;5;21mpredict\u001b[39m(\u001b[38;5;28mself\u001b[39m, X):\n\u001b[1;32m    373\u001b[0m \u001b[38;5;250m    \u001b[39m\u001b[38;5;124;03m\"\"\"\u001b[39;00m\n\u001b[1;32m    374\u001b[0m \u001b[38;5;124;03m    Predict using the linear model.\u001b[39;00m\n\u001b[1;32m    375\u001b[0m \n\u001b[0;32m   (...)\u001b[0m\n\u001b[1;32m    384\u001b[0m \u001b[38;5;124;03m        Returns predicted values.\u001b[39;00m\n\u001b[1;32m    385\u001b[0m \u001b[38;5;124;03m    \"\"\"\u001b[39;00m\n\u001b[0;32m--> 386\u001b[0m     \u001b[38;5;28;01mreturn\u001b[39;00m \u001b[38;5;28mself\u001b[39m\u001b[38;5;241m.\u001b[39m_decision_function(X)\n",
      "File \u001b[0;32m/opt/anaconda/lib/python3.11/site-packages/sklearn/linear_model/_base.py:369\u001b[0m, in \u001b[0;36mLinearModel._decision_function\u001b[0;34m(self, X)\u001b[0m\n\u001b[1;32m    366\u001b[0m \u001b[38;5;28;01mdef\u001b[39;00m \u001b[38;5;21m_decision_function\u001b[39m(\u001b[38;5;28mself\u001b[39m, X):\n\u001b[1;32m    367\u001b[0m     check_is_fitted(\u001b[38;5;28mself\u001b[39m)\n\u001b[0;32m--> 369\u001b[0m     X \u001b[38;5;241m=\u001b[39m \u001b[38;5;28mself\u001b[39m\u001b[38;5;241m.\u001b[39m_validate_data(X, accept_sparse\u001b[38;5;241m=\u001b[39m[\u001b[38;5;124m\"\u001b[39m\u001b[38;5;124mcsr\u001b[39m\u001b[38;5;124m\"\u001b[39m, \u001b[38;5;124m\"\u001b[39m\u001b[38;5;124mcsc\u001b[39m\u001b[38;5;124m\"\u001b[39m, \u001b[38;5;124m\"\u001b[39m\u001b[38;5;124mcoo\u001b[39m\u001b[38;5;124m\"\u001b[39m], reset\u001b[38;5;241m=\u001b[39m\u001b[38;5;28;01mFalse\u001b[39;00m)\n\u001b[1;32m    370\u001b[0m     \u001b[38;5;28;01mreturn\u001b[39;00m safe_sparse_dot(X, \u001b[38;5;28mself\u001b[39m\u001b[38;5;241m.\u001b[39mcoef_\u001b[38;5;241m.\u001b[39mT, dense_output\u001b[38;5;241m=\u001b[39m\u001b[38;5;28;01mTrue\u001b[39;00m) \u001b[38;5;241m+\u001b[39m \u001b[38;5;28mself\u001b[39m\u001b[38;5;241m.\u001b[39mintercept_\n",
      "File \u001b[0;32m/opt/anaconda/lib/python3.11/site-packages/sklearn/base.py:579\u001b[0m, in \u001b[0;36mBaseEstimator._validate_data\u001b[0;34m(self, X, y, reset, validate_separately, cast_to_ndarray, **check_params)\u001b[0m\n\u001b[1;32m    508\u001b[0m \u001b[38;5;28;01mdef\u001b[39;00m \u001b[38;5;21m_validate_data\u001b[39m(\n\u001b[1;32m    509\u001b[0m     \u001b[38;5;28mself\u001b[39m,\n\u001b[1;32m    510\u001b[0m     X\u001b[38;5;241m=\u001b[39m\u001b[38;5;124m\"\u001b[39m\u001b[38;5;124mno_validation\u001b[39m\u001b[38;5;124m\"\u001b[39m,\n\u001b[0;32m   (...)\u001b[0m\n\u001b[1;32m    515\u001b[0m     \u001b[38;5;241m*\u001b[39m\u001b[38;5;241m*\u001b[39mcheck_params,\n\u001b[1;32m    516\u001b[0m ):\n\u001b[1;32m    517\u001b[0m \u001b[38;5;250m    \u001b[39m\u001b[38;5;124;03m\"\"\"Validate input data and set or check the `n_features_in_` attribute.\u001b[39;00m\n\u001b[1;32m    518\u001b[0m \n\u001b[1;32m    519\u001b[0m \u001b[38;5;124;03m    Parameters\u001b[39;00m\n\u001b[0;32m   (...)\u001b[0m\n\u001b[1;32m    577\u001b[0m \u001b[38;5;124;03m        validated.\u001b[39;00m\n\u001b[1;32m    578\u001b[0m \u001b[38;5;124;03m    \"\"\"\u001b[39;00m\n\u001b[0;32m--> 579\u001b[0m     \u001b[38;5;28mself\u001b[39m\u001b[38;5;241m.\u001b[39m_check_feature_names(X, reset\u001b[38;5;241m=\u001b[39mreset)\n\u001b[1;32m    581\u001b[0m     \u001b[38;5;28;01mif\u001b[39;00m y \u001b[38;5;129;01mis\u001b[39;00m \u001b[38;5;28;01mNone\u001b[39;00m \u001b[38;5;129;01mand\u001b[39;00m \u001b[38;5;28mself\u001b[39m\u001b[38;5;241m.\u001b[39m_get_tags()[\u001b[38;5;124m\"\u001b[39m\u001b[38;5;124mrequires_y\u001b[39m\u001b[38;5;124m\"\u001b[39m]:\n\u001b[1;32m    582\u001b[0m         \u001b[38;5;28;01mraise\u001b[39;00m \u001b[38;5;167;01mValueError\u001b[39;00m(\n\u001b[1;32m    583\u001b[0m             \u001b[38;5;124mf\u001b[39m\u001b[38;5;124m\"\u001b[39m\u001b[38;5;124mThis \u001b[39m\u001b[38;5;132;01m{\u001b[39;00m\u001b[38;5;28mself\u001b[39m\u001b[38;5;241m.\u001b[39m\u001b[38;5;18m__class__\u001b[39m\u001b[38;5;241m.\u001b[39m\u001b[38;5;18m__name__\u001b[39m\u001b[38;5;132;01m}\u001b[39;00m\u001b[38;5;124m estimator \u001b[39m\u001b[38;5;124m\"\u001b[39m\n\u001b[1;32m    584\u001b[0m             \u001b[38;5;124m\"\u001b[39m\u001b[38;5;124mrequires y to be passed, but the target y is None.\u001b[39m\u001b[38;5;124m\"\u001b[39m\n\u001b[1;32m    585\u001b[0m         )\n",
      "File \u001b[0;32m/opt/anaconda/lib/python3.11/site-packages/sklearn/base.py:506\u001b[0m, in \u001b[0;36mBaseEstimator._check_feature_names\u001b[0;34m(self, X, reset)\u001b[0m\n\u001b[1;32m    501\u001b[0m \u001b[38;5;28;01mif\u001b[39;00m \u001b[38;5;129;01mnot\u001b[39;00m missing_names \u001b[38;5;129;01mand\u001b[39;00m \u001b[38;5;129;01mnot\u001b[39;00m unexpected_names:\n\u001b[1;32m    502\u001b[0m     message \u001b[38;5;241m+\u001b[39m\u001b[38;5;241m=\u001b[39m (\n\u001b[1;32m    503\u001b[0m         \u001b[38;5;124m\"\u001b[39m\u001b[38;5;124mFeature names must be in the same order as they were in fit.\u001b[39m\u001b[38;5;130;01m\\n\u001b[39;00m\u001b[38;5;124m\"\u001b[39m\n\u001b[1;32m    504\u001b[0m     )\n\u001b[0;32m--> 506\u001b[0m \u001b[38;5;28;01mraise\u001b[39;00m \u001b[38;5;167;01mValueError\u001b[39;00m(message)\n",
      "\u001b[0;31mValueError\u001b[0m: The feature names should match those that were passed during fit.\nFeature names seen at fit time, yet now missing:\n- year\n"
     ]
    },
    {
     "data": {
      "image/png": "[encoded data removed]",
      "text/plain": [
       "<Figure size 640x480 with 1 Axes>"
      ]
     },
     "metadata": {},
     "output_type": "display_data"
    }
   ],
   "source": [
    "plt.scatter(data.oilprice, data.gdp, color='red', marker='^')\n",
    "plt.xlabel('$')\n",
    "plt.ylabel('ВВП')\n",
    "plt.plot(data.oilprice, reg.predict(data[['oilprice']]))"
   ]
  },
  {
   "cell_type": "code",
   "execution_count": null,
   "id": "92bde834-e3c8-49cd-828a-d492c4d0d46d",
   "metadata": {},
   "outputs": [],
   "source": []
  }
 ],
 "metadata": {
  "kernelspec": {
   "display_name": "Python 3 (ipykernel)",
   "language": "python",
   "name": "python3"
  },
  "language_info": {
   "codemirror_mode": {
    "name": "ipython",
    "version": 3
   },
   "file_extension": ".py",
   "mimetype": "text/x-python",
   "name": "python",
   "nbconvert_exporter": "python",
   "pygments_lexer": "ipython3",
   "version": "3.11.5"
  }
 },
 "nbformat": 4,
 "nbformat_minor": 5
}
